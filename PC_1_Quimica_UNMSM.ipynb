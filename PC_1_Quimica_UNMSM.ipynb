{
  "nbformat": 4,
  "nbformat_minor": 0,
  "metadata": {
    "colab": {
      "provenance": [],
      "include_colab_link": true
    },
    "kernelspec": {
      "name": "python3",
      "display_name": "Python 3"
    },
    "language_info": {
      "name": "python"
    },
    "widgets": {
      "application/vnd.jupyter.widget-state+json": {
        "ed0abb32902d48b09ba472ef45583730": {
          "model_module": "faerun-notebook",
          "model_name": "SmilesDrawerModel",
          "model_module_version": "^0.1.5",
          "state": {
            "_dom_classes": [],
            "_model_module": "faerun-notebook",
            "_model_module_version": "^0.1.5",
            "_model_name": "SmilesDrawerModel",
            "_view_count": null,
            "_view_module": "faerun-notebook",
            "_view_module_version": "^0.1.5",
            "_view_name": "SmilesDrawerView",
            "background": "#1e1e1e",
            "border": true,
            "layout": "IPY_MODEL_f11bab9685c64e7da1d60c69437f298d",
            "options": {
              "scale": 1.25
            },
            "output": "svg",
            "theme": "dark",
            "value": [
              [
                "Rxn",
                "C(C1C(C(C(C(O1)O)O)O)O)O.O=O>>C(=O)=O.O"
              ]
            ]
          }
        },
        "f11bab9685c64e7da1d60c69437f298d": {
          "model_module": "@jupyter-widgets/base",
          "model_name": "LayoutModel",
          "model_module_version": "1.2.0",
          "state": {
            "_model_module": "@jupyter-widgets/base",
            "_model_module_version": "1.2.0",
            "_model_name": "LayoutModel",
            "_view_count": null,
            "_view_module": "@jupyter-widgets/base",
            "_view_module_version": "1.2.0",
            "_view_name": "LayoutView",
            "align_content": null,
            "align_items": null,
            "align_self": null,
            "border": null,
            "bottom": null,
            "display": null,
            "flex": null,
            "flex_flow": null,
            "grid_area": null,
            "grid_auto_columns": null,
            "grid_auto_flow": null,
            "grid_auto_rows": null,
            "grid_column": null,
            "grid_gap": null,
            "grid_row": null,
            "grid_template_areas": null,
            "grid_template_columns": null,
            "grid_template_rows": null,
            "height": null,
            "justify_content": null,
            "justify_items": null,
            "left": null,
            "margin": null,
            "max_height": null,
            "max_width": null,
            "min_height": null,
            "min_width": null,
            "object_fit": null,
            "object_position": null,
            "order": null,
            "overflow": null,
            "overflow_x": null,
            "overflow_y": null,
            "padding": null,
            "right": null,
            "top": null,
            "visibility": null,
            "width": null
          }
        }
      }
    }
  },
  "cells": [
    {
      "cell_type": "markdown",
      "metadata": {
        "id": "view-in-github",
        "colab_type": "text"
      },
      "source": [
        "<a href=\"https://colab.research.google.com/github/PiterYalo/practicas_de_quimica/blob/main/PC_1_Quimica_UNMSM.ipynb\" target=\"_parent\"><img src=\"https://colab.research.google.com/assets/colab-badge.svg\" alt=\"Open In Colab\"/></a>"
      ]
    },
    {
      "cell_type": "markdown",
      "source": [
        "$$\\Large \\textit{UNMSM | Química}$$\n",
        "$$\\large \\textbf{PC Nº1 | Materia y clasificación}$$\n",
        "\n",
        "_Profesor: Jesus Alvarado Huayhuaz_"
      ],
      "metadata": {
        "id": "sDJAjbaQOj4x"
      }
    },
    {
      "cell_type": "markdown",
      "source": [
        "Todas las indicaciones para la presentación de la práctica son explicadas en clase y brindadas en el material de enunciado de preguntas en formato PDF."
      ],
      "metadata": {
        "id": "_DsTzWLoP7Fy"
      }
    },
    {
      "cell_type": "markdown",
      "source": [
        "## Pregunta 1: Sobre el ABC de python (4 puntos)"
      ],
      "metadata": {
        "id": "obD7c2igOD6t"
      }
    },
    {
      "cell_type": "markdown",
      "source": [
        "Durante la semana de revisión del material \"ABC de python\", reflexiona sobre qué conceptos aprendiste con claridad y cuáles consideras los más desafiantes. A continuación resuelve los siguiente ejercicios, puedes ayudarte del material en http://bit.ly/3YKICSZ."
      ],
      "metadata": {
        "id": "emt93S7dL7QH"
      }
    },
    {
      "cell_type": "code",
      "source": [
        "# Imprime la versión de python que usas y las palabras reservadas de python para esa versión."
      ],
      "metadata": {
        "id": "6mJvqMN0LTU8"
      },
      "execution_count": null,
      "outputs": []
    },
    {
      "cell_type": "code",
      "source": [
        "import keyword\n",
        "\n",
        "print(\"Palabras reservadas:\", len(keyword.kwlist), keyword.kwlist)"
      ],
      "metadata": {
        "id": "0Zja0rbp_SJD"
      },
      "execution_count": null,
      "outputs": []
    },
    {
      "cell_type": "code",
      "source": [
        "# Crea una matriz de 3x3 e imprime la suma de los elementos en su diagonal (traza)."
      ],
      "metadata": {
        "id": "MxDzGypdLTXh"
      },
      "execution_count": null,
      "outputs": []
    },
    {
      "cell_type": "code",
      "source": [
        "matriz = [[1, 2, 3],\n",
        "          [4, 5, 6],\n",
        "          [7, 8, 9]]\n",
        "\n",
        "suma_diagonal = sum(matriz[i][i] for i in range(3))\n",
        "\n",
        "print(\"Matriz:\")\n",
        "for fila in matriz:\n",
        "    print(fila)\n",
        "\n",
        "print(\"Suma de la diagonal:\", suma_diagonal)\n"
      ],
      "metadata": {
        "id": "SK40vqGg-DMj"
      },
      "execution_count": null,
      "outputs": []
    },
    {
      "cell_type": "code",
      "source": [
        "# Guarda como variable la masa atómica de los elementos C, H y O, e imprime la masa molecular del etanol."
      ],
      "metadata": {
        "id": "MyhNX7JmLTSe"
      },
      "execution_count": null,
      "outputs": []
    },
    {
      "cell_type": "code",
      "source": [
        "masa_C = 12.01\n",
        "masa_H = 1.008\n",
        "masa_O = 16.00\n",
        "\n",
        "num_atomos_C = 2\n",
        "num_atomos_H = 6\n",
        "num_atomos_O = 1\n",
        "\n",
        "masa_molecular_etanol = (num_atomos_C * masa_C) + (num_atomos_H * masa_H) + (num_atomos_O * masa_O)\n",
        "\n",
        "print(\"Masa molecular del etanol (C2H6O):\", masa_molecular_etanol, \"g/mol\")\n"
      ],
      "metadata": {
        "id": "uCYaxVxA-OW6"
      },
      "execution_count": null,
      "outputs": []
    },
    {
      "cell_type": "code",
      "source": [
        "# Busca la temperatura de fusión en Celsius de 5 metales y guárdalos en una lista. Imprime las temperaturas en Kelvin"
      ],
      "metadata": {
        "id": "NCOnJ0FwgLLc"
      },
      "execution_count": null,
      "outputs": []
    },
    {
      "cell_type": "code",
      "source": [
        "\n",
        "temperaturas_celsius = [1538, 660.3, 1768, 3422, 961.78]\n",
        "\n",
        "def celsius_a_kelvin(celsius):\n",
        "    return celsius + 273.15\n",
        "\n",
        "temperaturas_kelvin = [celsius_a_kelvin(temp) for temp in temperaturas_celsius]\n",
        "\n",
        "print(\"Temperaturas de fusión en Kelvin:\")\n",
        "for i in range(len(temperaturas_kelvin)):\n",
        "    print(f\"Metal {i+1}: {temperaturas_kelvin[i]:.2f} K\")\n"
      ],
      "metadata": {
        "id": "nRpmxdbV-T76"
      },
      "execution_count": null,
      "outputs": []
    },
    {
      "cell_type": "markdown",
      "source": [
        "## Pregunta 2: Operaciones (4 puntos)"
      ],
      "metadata": {
        "id": "epzOadagLfPi"
      }
    },
    {
      "cell_type": "markdown",
      "source": [
        "Escribe un programa que lea repetidamente elementos químicos en español hasta que el usuario introduzca “fin”. Una vez se haya introducido “fin”, muestra por pantalla (o sea imprime) el total de elementos ingresados. Si el usuario introduce cualquier otra cosa que no sea un elemento químico, detecta su fallo usando try y except, muestra un mensaje de error y pasa al siguiente elemento."
      ],
      "metadata": {
        "id": "MbAEOGPsjOWZ"
      }
    },
    {
      "cell_type": "code",
      "source": [
        "elementos_quimicos = {\n",
        "    \"hidrogeno\": \"H\",\n",
        "    \"helio\": \"He\",\n",
        "    \"litio\": \"Li\",\n",
        "    \"berilio\": \"Be\",\n",
        "    \"boro\": \"B\",\n",
        "    \"carbono\": \"C\",\n",
        "    \"nitrogeno\": \"N\",\n",
        "    \"oxigeno\": \"O\",\n",
        "    \"fluor\": \"F\",\n",
        "    \"neon\": \"Ne\",\n",
        "    \"sodio\": \"Na\",\n",
        "    \"magnesio\": \"Mg\",\n",
        "    \"aluminio\": \"Al\",\n",
        "    \"silicio\": \"Si\",\n",
        "    \"fosforo\": \"P\",\n",
        "    \"azufre\": \"S\",\n",
        "    \"cloro\": \"Cl\",\n",
        "    \"argon\": \"Ar\",\n",
        "    \"potasio\": \"K\",\n",
        "    \"calcio\": \"Ca\",\n",
        "    \"escandio\": \"Sc\",\n",
        "    \"titanio\": \"Ti\",\n",
        "    \"vanadio\": \"V\",\n",
        "    \"cromo\": \"Cr\",\n",
        "    \"manganeso\": \"Mn\",\n",
        "    \"hierro\": \"Fe\",\n",
        "    \"cobalto\": \"Co\",\n",
        "    \"niquel\": \"Ni\",\n",
        "    \"cobre\": \"Cu\",\n",
        "    \"zinc\": \"Zn\",\n",
        "    \"galio\": \"Ga\",\n",
        "    \"germanio\": \"Ge\",\n",
        "    \"arsenico\": \"As\",\n",
        "    \"selenio\": \"Se\",\n",
        "    \"bromo\": \"Br\",\n",
        "    \"kripton\": \"Kr\",\n",
        "    \"rubidio\": \"Rb\",\n",
        "    \"estroncio\": \"Sr\",\n",
        "    \"itrio\": \"Y\",\n",
        "    \"zirconio\": \"Zr\",\n",
        "    \"niobio\": \"Nb\",\n",
        "    \"molibdeno\": \"Mo\",\n",
        "    \"tecnecio\": \"Tc\",\n",
        "    \"rutenio\": \"Ru\",\n",
        "    \"rodio\": \"Rh\",\n",
        "    \"paladio\": \"Pd\",\n",
        "    \"plata\": \"Ag\",\n",
        "    \"cadmio\": \"Cd\",\n",
        "    \"indio\": \"In\",\n",
        "    \"estano\": \"Sn\",\n",
        "    \"antimonio\": \"Sb\",\n",
        "    \"telurio\": \"Te\",\n",
        "    \"yodo\": \"I\",\n",
        "    \"xenon\": \"Xe\",\n",
        "    \"cesio\": \"Cs\",\n",
        "    \"bario\": \"Ba\",\n",
        "    \"lantano\": \"La\",\n",
        "    \"cerio\": \"Ce\",\n",
        "    \"praseodimio\": \"Pr\",\n",
        "    \"neodimio\": \"Nd\",\n",
        "    \"prometio\": \"Pm\",\n",
        "    \"samario\": \"Sm\",\n",
        "    \"europio\": \"Eu\",\n",
        "    \"gadolinio\": \"Gd\",\n",
        "    \"terbio\": \"Tb\",\n",
        "    \"disprosio\": \"Dy\",\n",
        "    \"holmio\": \"Ho\",\n",
        "    \"erbio\": \"Er\",\n",
        "    \"tulio\": \"Tm\",\n",
        "    \"iterbio\": \"Yb\",\n",
        "    \"lutecio\": \"Lu\",\n",
        "    \"hafnio\": \"Hf\",\n",
        "    \"tantalio\": \"Ta\",\n",
        "    \"wolframio\": \"W\",\n",
        "    \"renio\": \"Re\",\n",
        "    \"osmio\": \"Os\",\n",
        "    \"iridio\": \"Ir\",\n",
        "    \"platino\": \"Pt\",\n",
        "    \"oro\": \"Au\",\n",
        "    \"mercurio\": \"Hg\",\n",
        "    \"talio\": \"Tl\",\n",
        "    \"plomo\": \"Pb\",\n",
        "    \"bismuto\": \"Bi\",\n",
        "    \"polonio\": \"Po\",\n",
        "    \"astato\": \"At\",\n",
        "    \"radon\": \"Rn\",\n",
        "    \"francio\": \"Fr\",\n",
        "    \"radio\": \"Ra\",\n",
        "    \"actinio\": \"Ac\",\n",
        "    \"torio\": \"Th\",\n",
        "    \"proctonio\": \"Pa\",\n",
        "    \"uranio\": \"U\",\n",
        "    \"neptunio\": \"Np\",\n",
        "    \"plutonio\": \"Pu\",\n",
        "    \"americio\": \"Am\",\n",
        "    \"curio\": \"Cm\",\n",
        "    \"berkelio\": \"Bk\",\n",
        "    \"californio\": \"Cf\",\n",
        "    \"einstenio\": \"Es\",\n",
        "    \"fermio\": \"Fm\",\n",
        "    \"mendelevio\": \"Md\",\n",
        "    \"nobelio\": \"No\",\n",
        "    \"laurencio\": \"Lr\",\n",
        "    \"rutherfordio\": \"Rf\",\n",
        "    \"dubnio\": \"Db\",\n",
        "    \"seaborgio\": \"Sg\",\n",
        "    \"bohrio\": \"Bh\",\n",
        "    \"hassio\": \"Hs\",\n",
        "    \"meitnerio\": \"Mt\",\n",
        "    \"darmstadtio\": \"Ds\",\n",
        "    \"roentgenio\": \"Rg\",\n",
        "    \"copernicio\": \"Cn\",\n",
        "    \"nihonio\": \"Nh\",\n",
        "    \"flerovio\": \"Fl\",\n",
        "    \"moscovio\": \"Mc\",\n",
        "    \"livermorio\": \"Lv\",\n",
        "    \"tennessino\": \"Ts\",\n",
        "    \"oganesson\": \"Og\"\n",
        "}\n",
        "\n",
        "total_elementos = 0\n",
        "\n",
        "while True:\n",
        "    entrada = input(\"Introduce un elemento químico en español (o 'fin' para terminar): \").lower()\n",
        "\n",
        "    if entrada == \"fin\":\n",
        "        break\n",
        "\n",
        "    try:\n",
        "        elemento = elementos_quimicos[entrada]\n",
        "        total_elementos += 1\n",
        "        print(f\"Elemento válido: {entrada} ({elemento})\")\n",
        "    except KeyError:\n",
        "        print(f\"Error: '{entrada}' no es un elemento químico válido.\")\n",
        "\n",
        "print(f\"Total de elementos ingresados: {total_elementos}\")\n"
      ],
      "metadata": {
        "id": "9LaV9taNJMiC"
      },
      "execution_count": null,
      "outputs": []
    },
    {
      "cell_type": "markdown",
      "source": [
        "# Pregunta 3: Conservación de la masa (4 puntos)"
      ],
      "metadata": {
        "id": "8gxSHpD3LZsh"
      }
    },
    {
      "cell_type": "markdown",
      "source": [
        "### Código necesario para generar la imagen"
      ],
      "metadata": {
        "id": "mMV9c3hDl7KL"
      }
    },
    {
      "cell_type": "code",
      "source": [
        "!pip install faerun-notebook==0.1.5b0\n",
        "\n",
        "import ipywidgets as widgets\n",
        "from faerun_notebook import SmilesDrawer\n",
        "from google.colab import output\n",
        "output.enable_custom_widget_manager()"
      ],
      "metadata": {
        "id": "JgF8Ohtbky65"
      },
      "execution_count": null,
      "outputs": []
    },
    {
      "cell_type": "markdown",
      "source": [
        "### Reacción química"
      ],
      "metadata": {
        "id": "5sLC10D_oSrV"
      }
    },
    {
      "cell_type": "markdown",
      "source": [
        "Demuestra cómo se cumple la conservación de la masa en la siguiente reacción química. Sugerencia: hacer un balance estequiométrico y luego emplear la masa molecular de reactivos y productos."
      ],
      "metadata": {
        "id": "OVRhAzaVmD86"
      }
    },
    {
      "cell_type": "code",
      "source": [
        "SmilesDrawer(value=[(\"Rxn\", \"C(C1C(C(C(C(O1)O)O)O)O)O.O=O>>C(=O)=O.O\")], theme='dark', background=\"#1e1e1e\", options={'scale': 1.25})"
      ],
      "metadata": {
        "colab": {
          "base_uri": "https://localhost:8080/",
          "height": 289,
          "referenced_widgets": [
            "ed0abb32902d48b09ba472ef45583730",
            "f11bab9685c64e7da1d60c69437f298d"
          ]
        },
        "id": "CC0mAXWmnYyN",
        "outputId": "beb34d92-3600-4af8-a5bf-342b66783161"
      },
      "execution_count": null,
      "outputs": [
        {
          "output_type": "display_data",
          "data": {
            "text/plain": [
              "SmilesDrawer(background='#1e1e1e', options={'scale': 1.25}, theme='dark', value=[('Rxn', 'C(C1C(C(C(C(O1)O)O)O…"
            ],
            "application/vnd.jupyter.widget-view+json": {
              "version_major": 2,
              "version_minor": 0,
              "model_id": "ed0abb32902d48b09ba472ef45583730"
            }
          },
          "metadata": {
            "application/vnd.jupyter.widget-view+json": {
              "colab": {
                "custom_widget_manager": {
                  "url": "https://ssl.gstatic.com/colaboratory-static/widgets/colab-cdn-widget-manager/b3e629b1971e1542/manager.min.js"
                }
              }
            }
          }
        }
      ]
    },
    {
      "cell_type": "code",
      "source": [],
      "metadata": {
        "id": "UMRTjMn2_8B8"
      },
      "execution_count": null,
      "outputs": []
    },
    {
      "cell_type": "markdown",
      "source": [
        "## Pregunta 4: Notación científica (4 puntos)"
      ],
      "metadata": {
        "id": "Rh-nAUiKhJNB"
      }
    },
    {
      "cell_type": "markdown",
      "source": [
        "Imprime las siguientes operaciones según la notación científica:\n",
        "\n",
        "(1) $1.321 \\times 10^{-4} + 8.5 \\times 10^{-2}$\n",
        "\n",
        "(2) $1.71 \\times 10^{3} - 2.01 \\times 10^{2}\\$\n",
        "\n",
        "(3) $(7.4 \\times 10^5)(7.2 \\times 10^4)$\n",
        "\n",
        "(4) $(7.4 \\times 10^5)/(7.2 \\times 10^4)$"
      ],
      "metadata": {
        "id": "NIkI45Xdqqnt"
      }
    },
    {
      "cell_type": "code",
      "source": [
        "resultado_1 = 1.321e-4 + 8.5e-2\n",
        "print(\"Resultado 1:\", resultado_1)\n",
        "\n",
        "resultado_2 = 1.71e3 - 2.01e2\n",
        "print(\"Resultado 2:\", resultado_2)\n",
        "\n",
        "resultado_3 = (7.4e5) * (7.2e4)\n",
        "print(\"Resultado 3:\", resultado_3)\n",
        "\n",
        "resultado_4 = (7.4e5) / (7.2e4)\n",
        "print(\"Resultado 4:\", resultado_4)"
      ],
      "metadata": {
        "id": "wogCCoog8yqD"
      },
      "execution_count": null,
      "outputs": []
    },
    {
      "cell_type": "markdown",
      "source": [
        "## Pregunta 5: Método científico (4 puntos)"
      ],
      "metadata": {
        "id": "CuzCcXJghR14"
      }
    },
    {
      "cell_type": "markdown",
      "source": [
        "Artículo: https://bit.ly/3surZ1W\n",
        "Leer el siguiente artículo y explica cómo es aplicado el método científico. Emplea como máximo 300 palabras."
      ],
      "metadata": {
        "id": "WngRSR-Rhmx1"
      }
    },
    {
      "cell_type": "markdown",
      "source": [
        "1.Observación e Hipótesis: Los investigadores observaron la afirmación inicial de que el compuesto LK-99 era un superconductor a temperatura ambiente. Esta observación generó la hipótesis de que el compuesto podría tener propiedades inusuales en términos de conductividad eléctrica y levitación magnética.\n",
        "2.Experimentación: Diversos equipos de investigación llevaron a cabo experimentos para poner a prueba la hipótesis. Realizaron mediciones de resistividad, estudiaron la levitación del material y llevaron a cabo análisis estructurales para comprender cómo se comportaba LK-99 en condiciones específicas.\n",
        "3.Recopilación y Análisis de Datos: Durante los experimentos, los investigadores recopilaron datos numéricos y observacionales sobre el comportamiento de LK-99. Estos datos incluyeron mediciones precisas de resistividad, registros de levitación y análisis de la estructura química del compuesto.\n",
        "4.Comparación y Replicación: Diferentes equipos de investigación intentaron replicar los resultados iniciales para determinar si eran consistentes en diferentes situaciones y con diferentes enfoques experimentales. Compararon sus hallazgos con los resultados originales para verificar su validez.\n",
        "5.Refinamiento de la Hipótesis: A medida que surgieron discrepancias y explicaciones alternativas, los investigadores comenzaron a cuestionar la hipótesis original. Refinaron su comprensión y propusieron nuevas explicaciones basadas en las observaciones y los resultados experimentales.\n",
        "6.Pruebas y Verificación Adicionales: Los investigadores llevaron a cabo pruebas adicionales para probar las explicaciones alternativas propuestas. Sintetizaron muestras puras, eliminaron impurezas y realizaron experimentos específicos para validar o refutar las hipótesis revisadas.\n",
        "7.Conclusión: Basándose en la evidencia acumulada y los resultados de múltiples experimentos y análisis, los investigadores llegaron a la conclusión de que LK-99 no era un superconductor a temperatura ambiente. Establecieron que las propiedades observadas eran resultado de impurezas y comportamiento electrónico localizado en lugar de la superconductividad."
      ],
      "metadata": {
        "id": "AMhYo9Yp_48r"
      }
    }
  ]
}